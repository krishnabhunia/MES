{
 "cells": [
  {
   "cell_type": "code",
   "execution_count": 40,
   "metadata": {},
   "outputs": [
    {
     "name": "stdout",
     "output_type": "stream",
     "text": [
      "verbose=True agent=RunnableMultiActionAgent(runnable=RunnableAssign(mapper={\n",
      "  agent_scratchpad: RunnableLambda(lambda x: format_to_openai_tool_messages(x['intermediate_steps']))\n",
      "})\n",
      "| ChatPromptTemplate(input_variables=['agent_scratchpad', 'input'], optional_variables=['chat_history'], input_types={'chat_history': list[typing.Annotated[typing.Union[typing.Annotated[langchain_core.messages.ai.AIMessage, Tag(tag='ai')], typing.Annotated[langchain_core.messages.human.HumanMessage, Tag(tag='human')], typing.Annotated[langchain_core.messages.chat.ChatMessage, Tag(tag='chat')], typing.Annotated[langchain_core.messages.system.SystemMessage, Tag(tag='system')], typing.Annotated[langchain_core.messages.function.FunctionMessage, Tag(tag='function')], typing.Annotated[langchain_core.messages.tool.ToolMessage, Tag(tag='tool')], typing.Annotated[langchain_core.messages.ai.AIMessageChunk, Tag(tag='AIMessageChunk')], typing.Annotated[langchain_core.messages.human.HumanMessageChunk, Tag(tag='HumanMessageChunk')], typing.Annotated[langchain_core.messages.chat.ChatMessageChunk, Tag(tag='ChatMessageChunk')], typing.Annotated[langchain_core.messages.system.SystemMessageChunk, Tag(tag='SystemMessageChunk')], typing.Annotated[langchain_core.messages.function.FunctionMessageChunk, Tag(tag='FunctionMessageChunk')], typing.Annotated[langchain_core.messages.tool.ToolMessageChunk, Tag(tag='ToolMessageChunk')]], FieldInfo(annotation=NoneType, required=True, discriminator=Discriminator(discriminator=<function _get_type at 0x7f29c656ed40>, custom_error_type=None, custom_error_message=None, custom_error_context=None))]], 'agent_scratchpad': list[typing.Annotated[typing.Union[typing.Annotated[langchain_core.messages.ai.AIMessage, Tag(tag='ai')], typing.Annotated[langchain_core.messages.human.HumanMessage, Tag(tag='human')], typing.Annotated[langchain_core.messages.chat.ChatMessage, Tag(tag='chat')], typing.Annotated[langchain_core.messages.system.SystemMessage, Tag(tag='system')], typing.Annotated[langchain_core.messages.function.FunctionMessage, Tag(tag='function')], typing.Annotated[langchain_core.messages.tool.ToolMessage, Tag(tag='tool')], typing.Annotated[langchain_core.messages.ai.AIMessageChunk, Tag(tag='AIMessageChunk')], typing.Annotated[langchain_core.messages.human.HumanMessageChunk, Tag(tag='HumanMessageChunk')], typing.Annotated[langchain_core.messages.chat.ChatMessageChunk, Tag(tag='ChatMessageChunk')], typing.Annotated[langchain_core.messages.system.SystemMessageChunk, Tag(tag='SystemMessageChunk')], typing.Annotated[langchain_core.messages.function.FunctionMessageChunk, Tag(tag='FunctionMessageChunk')], typing.Annotated[langchain_core.messages.tool.ToolMessageChunk, Tag(tag='ToolMessageChunk')]], FieldInfo(annotation=NoneType, required=True, discriminator=Discriminator(discriminator=<function _get_type at 0x7f29c656ed40>, custom_error_type=None, custom_error_message=None, custom_error_context=None))]]}, partial_variables={'chat_history': []}, messages=[SystemMessagePromptTemplate(prompt=PromptTemplate(input_variables=[], input_types={}, partial_variables={}, template='You are a mathematical assistant.\\n        Use your tools to answer questions. If you do not have a tool to\\n        answer the question, say so. \\n\\n        Return answer with description in a new line, e.g\\n        Human: What is 1 + 1?\\n        AI: 1 + 1 = 2\\n        '), additional_kwargs={}), MessagesPlaceholder(variable_name='chat_history', optional=True), HumanMessagePromptTemplate(prompt=PromptTemplate(input_variables=['input'], input_types={}, partial_variables={}, template='{input}'), additional_kwargs={}), MessagesPlaceholder(variable_name='agent_scratchpad')])\n",
      "| RunnableBinding(bound=ChatGroq(client=<groq.resources.chat.completions.Completions object at 0x7f29a24da8f0>, async_client=<groq.resources.chat.completions.AsyncCompletions object at 0x7f29a23a7eb0>, model_name='llama3-8b-8192', temperature=1e-08, model_kwargs={}, groq_api_key=SecretStr('**********')), kwargs={'tools': [{'type': 'function', 'function': {'name': 'add', 'description': 'Add two numbers.', 'parameters': {'properties': {'a': {'type': 'integer'}, 'b': {'type': 'integer'}}, 'required': ['a', 'b'], 'type': 'object'}}}, {'type': 'function', 'function': {'name': 'multiply', 'description': 'Multiply two numbers.', 'parameters': {'properties': {'a': {'type': 'integer'}, 'b': {'type': 'integer'}}, 'required': ['a', 'b'], 'type': 'object'}}}, {'type': 'function', 'function': {'name': 'square', 'description': 'Calculates the square of a number.', 'parameters': {'properties': {'a': {'type': 'integer'}}, 'required': ['a'], 'type': 'object'}}}, {'type': 'function', 'function': {'name': 'give_increment', 'description': 'if the number is negative then make it postive number and then return the number * 1.25', 'parameters': {'properties': {'a': {'type': 'integer'}}, 'required': ['a'], 'type': 'object'}}}, {'type': 'function', 'function': {'name': 'give_customise_increment', 'description': 'if the number is negative then make it postive number and return the number * b/100', 'parameters': {'properties': {'a': {'type': 'integer'}, 'b': {'type': 'integer'}}, 'required': ['a', 'b'], 'type': 'object'}}}, {'type': 'function', 'function': {'name': 'add_salution_to_name', 'description': \"Modify then name with which starts with capital letter and prefix a salution before the name such as Mr. or Mrs.\\n    According to gender of the name, it will add Mr. or Mrs. before the name.\\n    If you unable to identify the name then return the name with Prefix 'Hello Dear'\", 'parameters': {'properties': {'name': {'type': 'string'}}, 'required': ['name'], 'type': 'object'}}}]}, config={}, config_factories=[])\n",
      "| OpenAIToolsAgentOutputParser(), input_keys_arg=[], return_keys_arg=[], stream_runnable=True) tools=[StructuredTool(name='add', description='Add two numbers.', args_schema=<class 'langchain_core.utils.pydantic.add'>, func=<function add at 0x7f29a2256830>), StructuredTool(name='multiply', description='Multiply two numbers.', args_schema=<class 'langchain_core.utils.pydantic.multiply'>, func=<function multiply at 0x7f29a2255900>), StructuredTool(name='square', description='Calculates the square of a number.', args_schema=<class 'langchain_core.utils.pydantic.square'>, func=<function square at 0x7f29a2256680>), StructuredTool(name='give_increment', description='if the number is negative then make it postive number and then return the number * 1.25', args_schema=<class 'langchain_core.utils.pydantic.give_increment'>, func=<function give_increment at 0x7f29a2254820>), StructuredTool(name='give_customise_increment', description='if the number is negative then make it postive number and return the number * b/100', args_schema=<class 'langchain_core.utils.pydantic.give_customise_increment'>, func=<function give_customise_increment at 0x7f29a22196c0>), StructuredTool(name='add_salution_to_name', description=\"Modify then name with which starts with capital letter and prefix a salution before the name such as Mr. or Mrs.\\n    According to gender of the name, it will add Mr. or Mrs. before the name.\\n    If you unable to identify the name then return the name with Prefix 'Hello Dear'\", args_schema=<class 'langchain_core.utils.pydantic.add_salution_to_name'>, func=<function add_salution_to_name at 0x7f29a2219bd0>)]\n"
     ]
    }
   ],
   "source": [
    "from langchain.agents import AgentExecutor, create_openai_tools_agent\n",
    "from langchain.tools import tool\n",
    "from langchain_core.prompts import ChatPromptTemplate, MessagesPlaceholder\n",
    "from langchain_groq import ChatGroq\n",
    "\n",
    "# setup the tools\n",
    "@tool\n",
    "def add(a: int, b: int) -> int:\n",
    "    \"\"\"Add two numbers.\"\"\"\n",
    "    return a + b\n",
    "\n",
    "\n",
    "@tool\n",
    "def multiply(a: int, b: int) -> int:\n",
    "    \"\"\"Multiply two numbers.\"\"\"\n",
    "    return a * b\n",
    "\n",
    "\n",
    "@tool\n",
    "def square(a: int) -> int:\n",
    "    \"\"\"Calculates the square of a number.\"\"\"\n",
    "    a = int(a)\n",
    "    return a * a\n",
    "\n",
    "@tool\n",
    "def give_increment(a: int) -> float:\n",
    "    \"\"\"if the number is negative then make it postive number and then return the number * 1.25\"\"\"\n",
    "    result = abs(a) * 1.25\n",
    "    return result\n",
    "\n",
    "@tool\n",
    "def give_customise_increment(a: int, b: int) -> float:\n",
    "    \"\"\"if the number is negative then make it postive number and return the number * b/100\"\"\"\n",
    "    result = abs(a) * b/100\n",
    "    return result\n",
    "\n",
    "@tool\n",
    "def add_salution_to_name(name: str) -> str:\n",
    "    \"\"\"Modify then name with which starts with capital letter and prefix a salution before the name such as Mr. or Mrs.\n",
    "    According to gender of the name, it will add Mr. or Mrs. before the name.\n",
    "    If you unable to identify the name then return the name with Prefix 'Hello Dear'\n",
    "    \"\"\"\n",
    "    # return \"Mr. \" + name\n",
    "\n",
    "prompt = ChatPromptTemplate.from_messages(\n",
    "    [\n",
    "        (\"system\", \"\"\"You are a mathematical assistant.\n",
    "        Use your tools to answer questions. If you do not have a tool to\n",
    "        answer the question, say so. \n",
    "\n",
    "        Return answer with description in a new line, e.g\n",
    "        Human: What is 1 + 1?\n",
    "        AI: 1 + 1 = 2\n",
    "        \"\"\"),\n",
    "        MessagesPlaceholder(\"chat_history\", optional=True),\n",
    "        (\"human\", \"{input}\"),\n",
    "        MessagesPlaceholder(\"agent_scratchpad\"),\n",
    "    ]\n",
    ")\n",
    "\n",
    "# Choose the LLM that will drive the agent\n",
    "llm = ChatGroq(model=\"llama3-8b-8192\", temperature=0)\n",
    "\n",
    "# setup the toolkit\n",
    "toolkit = [add, multiply, square, give_increment, give_customise_increment, add_salution_to_name]\n",
    "\n",
    "# Construct the OpenAI Tools agent\n",
    "agent = create_openai_tools_agent(llm, toolkit, prompt)\n",
    "\n",
    "# Create an agent executor by passing in the agent and tools\n",
    "agent_executor = AgentExecutor(agent=agent, tools=toolkit, verbose=True)\n",
    "\n",
    "print(agent_executor)\n"
   ]
  },
  {
   "cell_type": "code",
   "execution_count": 41,
   "metadata": {},
   "outputs": [
    {
     "name": "stdout",
     "output_type": "stream",
     "text": [
      "-----------------\n",
      "\n",
      "\n",
      "\u001b[1m> Entering new AgentExecutor chain...\u001b[0m\n",
      "\u001b[32;1m\u001b[1;3m\n",
      "Invoking: `add` with `{'a': 1, 'b': 1}`\n",
      "\n",
      "\n",
      "\u001b[0m\u001b[36;1m\u001b[1;3m2\u001b[0m\u001b[32;1m\u001b[1;3m2\u001b[0m\n",
      "\n",
      "\u001b[1m> Finished chain.\u001b[0m\n",
      "2\n",
      "+++++++++++++++++\n",
      "-----------------\n",
      "\n",
      "\n",
      "\u001b[1m> Entering new AgentExecutor chain...\u001b[0m\n",
      "\u001b[32;1m\u001b[1;3m\n",
      "Invoking: `give_increment` with `{'a': -300}`\n",
      "\n",
      "\n",
      "\u001b[0m\u001b[36;1m\u001b[1;3m375.0\u001b[0m\u001b[32;1m\u001b[1;3m\n",
      "Invoking: `give_increment` with `{'a': 150}`\n",
      "\n",
      "\n",
      "\u001b[0m\u001b[36;1m\u001b[1;3m187.5\u001b[0m\u001b[32;1m\u001b[1;3mThe increment on -300 is 375.0, and the increment on 150 is 187.5. So, the final answer is:\n",
      "\n",
      "The increment on -300 is 375.0, and the increment on 150 is 187.5.\n",
      "\n",
      "Note: The increment on -300 is 375.0 because the tool \"give_increment\" makes a negative number positive and then multiplies it by 1.25.\u001b[0m\n",
      "\n",
      "\u001b[1m> Finished chain.\u001b[0m\n",
      "The increment on -300 is 375.0, and the increment on 150 is 187.5. So, the final answer is:\n",
      "\n",
      "The increment on -300 is 375.0, and the increment on 150 is 187.5.\n",
      "\n",
      "Note: The increment on -300 is 375.0 because the tool \"give_increment\" makes a negative number positive and then multiplies it by 1.25.\n",
      "+++++++++++++++++\n",
      "-----------------\n",
      "\n",
      "\n",
      "\u001b[1m> Entering new AgentExecutor chain...\u001b[0m\n",
      "\u001b[32;1m\u001b[1;3m\n",
      "Invoking: `give_increment` with `{'a': 1000}`\n",
      "\n",
      "\n",
      "\u001b[0m\u001b[36;1m\u001b[1;3m1250.0\u001b[0m\u001b[32;1m\u001b[1;3m\n",
      "Invoking: `multiply` with `{'a': 10, 'b': 100}`\n",
      "\n",
      "\n",
      "\u001b[0m\u001b[33;1m\u001b[1;3m1000\u001b[0m\u001b[32;1m\u001b[1;3m\n",
      "Invoking: `give_increment` with `{'a': 1250}`\n",
      "\n",
      "\n",
      "\u001b[0m\u001b[36;1m\u001b[1;3m1562.5\u001b[0m\u001b[32;1m\u001b[1;3m1562.5\u001b[0m\n",
      "\n",
      "\u001b[1m> Finished chain.\u001b[0m\n",
      "1562.5\n",
      "+++++++++++++++++\n"
     ]
    }
   ],
   "source": [
    "print(\"-----------------\")\n",
    "result = agent_executor.invoke({\"input\": \"what is 1 + 1?\"})\n",
    "print(result['output'])\n",
    "print(\"+++++++++++++++++\")\n",
    "\n",
    "print(\"-----------------\")\n",
    "result = agent_executor.invoke({\"input\": \"how much to give on increment on -300 and 150\"})\n",
    "print(result['output'])\n",
    "print(\"+++++++++++++++++\")\n",
    "\n",
    "print(\"-----------------\")\n",
    "result = agent_executor.invoke({\"input\": \"how much to give on increment on 1000 with 10%\"})\n",
    "print(result['output'])\n",
    "print(\"+++++++++++++++++\")"
   ]
  },
  {
   "cell_type": "code",
   "execution_count": 42,
   "metadata": {},
   "outputs": [
    {
     "name": "stdout",
     "output_type": "stream",
     "text": [
      "-----------------\n",
      "\n",
      "\n",
      "\u001b[1m> Entering new AgentExecutor chain...\u001b[0m\n",
      "\u001b[32;1m\u001b[1;3mMr. Krishna Bhunia!\u001b[0m\n",
      "\n",
      "\u001b[1m> Finished chain.\u001b[0m\n",
      "Mr. Krishna Bhunia!\n",
      "+++++++++++++++++\n"
     ]
    }
   ],
   "source": [
    "print(\"-----------------\")\n",
    "result = agent_executor.invoke({\"input\": \"my name is krishna bhunia and I need to address me properly\"})\n",
    "print(result['output'])\n",
    "print(\"+++++++++++++++++\")"
   ]
  },
  {
   "cell_type": "code",
   "execution_count": 43,
   "metadata": {},
   "outputs": [
    {
     "name": "stdout",
     "output_type": "stream",
     "text": [
      "-----------------\n",
      "\n",
      "\n",
      "\u001b[1m> Entering new AgentExecutor chain...\u001b[0m\n",
      "\u001b[32;1m\u001b[1;3m\n",
      "Invoking: `add_salution_to_name` with `{'name': 'Priyanka'}`\n",
      "\n",
      "\n",
      "\u001b[0m\u001b[38;5;200m\u001b[1;3mNone\u001b[0m\u001b[32;1m\u001b[1;3m\n",
      "Invoking: `add_salution_to_name` with `{'name': 'Abhijit'}`\n",
      "\n",
      "\n",
      "\u001b[0m\u001b[38;5;200m\u001b[1;3mNone\u001b[0m\u001b[32;1m\u001b[1;3mMr. Abhijit\u001b[0m\n",
      "\n",
      "\u001b[1m> Finished chain.\u001b[0m\n",
      "Mr. Abhijit\n",
      "+++++++++++++++++\n"
     ]
    }
   ],
   "source": [
    "print(\"-----------------\")\n",
    "result = agent_executor.invoke({\"input\": \"My friend name is priyanka and abhijit\"})\n",
    "print(result['output'])\n",
    "print(\"+++++++++++++++++\")"
   ]
  },
  {
   "cell_type": "code",
   "execution_count": 44,
   "metadata": {},
   "outputs": [
    {
     "name": "stdout",
     "output_type": "stream",
     "text": [
      "-----------------\n",
      "\n",
      "\n",
      "\u001b[1m> Entering new AgentExecutor chain...\u001b[0m\n",
      "\u001b[32;1m\u001b[1;3m\n",
      "Invoking: `add_salution_to_name` with `{'name': 'Alex'}`\n",
      "\n",
      "\n",
      "\u001b[0m\u001b[38;5;200m\u001b[1;3mNone\u001b[0m\u001b[32;1m\u001b[1;3m\n",
      "Invoking: `add_salution_to_name` with `{'name': 'Alex'}`\n",
      "responded: I apologize for the inconvenience. It seems that the tool call \"call_92xn\" did not yield a valid result. Let me try again.\n",
      "\n",
      "\n",
      "\n",
      "\u001b[0m\u001b[38;5;200m\u001b[1;3mNone\u001b[0m\u001b[32;1m\u001b[1;3mHello Dear Alex\u001b[0m\n",
      "\n",
      "\u001b[1m> Finished chain.\u001b[0m\n",
      "Hello Dear Alex\n",
      "+++++++++++++++++\n"
     ]
    }
   ],
   "source": [
    "print(\"-----------------\")\n",
    "result = agent_executor.invoke({\"input\": \"My friend name is Alex\"})\n",
    "print(result['output'])\n",
    "print(\"+++++++++++++++++\")"
   ]
  }
 ],
 "metadata": {
  "kernelspec": {
   "display_name": "venv_kri_mes",
   "language": "python",
   "name": "python3"
  },
  "language_info": {
   "codemirror_mode": {
    "name": "ipython",
    "version": 3
   },
   "file_extension": ".py",
   "mimetype": "text/x-python",
   "name": "python",
   "nbconvert_exporter": "python",
   "pygments_lexer": "ipython3",
   "version": "3.10.12"
  }
 },
 "nbformat": 4,
 "nbformat_minor": 2
}
